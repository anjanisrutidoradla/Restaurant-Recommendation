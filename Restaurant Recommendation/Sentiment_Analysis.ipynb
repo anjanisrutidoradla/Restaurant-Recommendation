{
 "cells": [
  {
   "cell_type": "code",
   "execution_count": null,
   "id": "c4e42241",
   "metadata": {},
   "outputs": [],
   "source": [
    "import pandas as pd\n",
    "import numpy as np\n",
    "from tqdm import tqdm\n",
    "import plotly.graph_objects as go\n",
    "import plotly.express as px\n",
    "from itertools import islice\n",
    "import matplotlib.lines as mlines\n",
    "import seaborn as sns\n",
    "import matplotlib.pyplot as plt\n",
    "\n",
    "import datetime as dt\n",
    "import re"
   ]
  },
  {
   "cell_type": "markdown",
   "id": "1b3fd514",
   "metadata": {},
   "source": [
    "#### Loading the dataset"
   ]
  },
  {
   "cell_type": "code",
   "execution_count": null,
   "id": "719d4819",
   "metadata": {},
   "outputs": [],
   "source": [
    "for i in tqdm(range(1, 10)):\n",
    "    url = '/Users/prajwalkhot/Documents/IDS/Project/Yelp/yelp_dataset/Review_files/yelp_academic_dataset_review'+str(i)+'.json'\n",
    "    globals()['df%s' % i]  = pd.read_json(url) "
   ]
  },
  {
   "cell_type": "code",
   "execution_count": null,
   "id": "cc052b58",
   "metadata": {},
   "outputs": [],
   "source": [
    "frames = [df1, df2, df3, df4, df5, df6, df7, df8, df9]\n",
    "reviews = pd.concat(frames)\n",
    "reviews"
   ]
  },
  {
   "cell_type": "code",
   "execution_count": null,
   "id": "875556f3",
   "metadata": {},
   "outputs": [],
   "source": [
    "reviews = reviews[['review_id', 'date', 'stars', 'text', 'cool', 'funny', 'useful', 'business_id', 'user_id']]\n",
    "reviews['month'] = reviews['date'].dt.to_period('M')\n",
    "reviews['date'] = reviews['date'].dt.date\n",
    "reviews"
   ]
  },
  {
   "cell_type": "code",
   "execution_count": null,
   "id": "65c91f09",
   "metadata": {},
   "outputs": [],
   "source": [
    "review_stars = reviews['stars'].value_counts()\n",
    "review_stars_percent = review_stars.apply(lambda i : i / len(reviews) * 100)\n",
    "review_stars_percent"
   ]
  },
  {
   "cell_type": "code",
   "execution_count": null,
   "id": "29a79767",
   "metadata": {},
   "outputs": [],
   "source": [
    "fig = px.bar(x=review_stars_percent.index, y=review_stars_percent)\n",
    "fig.update_layout(\n",
    "    width = 500,\n",
    "    xaxis_title=\"Stars\",\n",
    "    yaxis_title=\"Percentage of reviews\",\n",
    ")\n",
    "fig.show()"
   ]
  },
  {
   "cell_type": "markdown",
   "id": "8d6e7907",
   "metadata": {},
   "source": [
    "#### Extracting month and year from the date"
   ]
  },
  {
   "cell_type": "code",
   "execution_count": null,
   "id": "f8c64571",
   "metadata": {},
   "outputs": [],
   "source": [
    "review_monthly = reviews.groupby(['month']).count().reset_index(drop= False)\n",
    "review_monthly['month'] = review_monthly.month.astype(str)\n",
    "review_monthly"
   ]
  },
  {
   "cell_type": "code",
   "execution_count": null,
   "id": "04e25b03",
   "metadata": {},
   "outputs": [],
   "source": [
    "fig = px.line(x=review_monthly['month'], y=review_monthly['review_id'])\n",
    "fig.update_layout(\n",
    "    xaxis_title=\"Stars\",\n",
    "    yaxis_title=\"Percentage of reviews\",\n",
    ")\n",
    "fig.show()"
   ]
  },
  {
   "cell_type": "markdown",
   "id": "91fb97f1",
   "metadata": {},
   "source": [
    "## 3 Text Mining\n",
    "#### Removing Stopwords"
   ]
  },
  {
   "cell_type": "code",
   "execution_count": null,
   "id": "dcf88221",
   "metadata": {},
   "outputs": [],
   "source": [
    "from nltk.corpus import stopwords\n",
    "from sklearn.feature_extraction._stop_words import ENGLISH_STOP_WORDS\n",
    "my_stop_words = set(stopwords.words('english') + list(ENGLISH_STOP_WORDS) + ['super', 'duper', 'place'])"
   ]
  },
  {
   "cell_type": "code",
   "execution_count": null,
   "id": "869b8392",
   "metadata": {},
   "outputs": [],
   "source": [
    "from wordcloud import WordCloud# concatenate all the reviews into one single string \n",
    "full_text = ' '.join(reviews['text'])\n",
    "cloud_no_stopword = WordCloud(background_color='white', stopwords=my_stop_words).generate(full_text)\n",
    "plt.imshow(cloud_no_stopword, interpolation='bilinear')\n",
    "plt.axis('off')\n",
    "plt.show()"
   ]
  },
  {
   "cell_type": "code",
   "execution_count": null,
   "id": "c98a792d",
   "metadata": {},
   "outputs": [],
   "source": [
    "reviews_sample = reviews.copy()"
   ]
  },
  {
   "cell_type": "markdown",
   "id": "18fa4c5c",
   "metadata": {},
   "source": [
    "#### Tokenizing"
   ]
  },
  {
   "cell_type": "code",
   "execution_count": null,
   "id": "e0822315",
   "metadata": {},
   "outputs": [],
   "source": [
    "from nltk.tokenize import word_tokenize\n",
    "from nltk import FreqDist\n",
    "full_text = ' '.join(reviews_sample['text'])\n",
    "lower_full_text = full_text.lower()\n",
    "word_tokens = word_tokenize(lower_full_text)\n",
    "tokens = list()"
   ]
  },
  {
   "cell_type": "code",
   "execution_count": null,
   "id": "53f98018",
   "metadata": {},
   "outputs": [],
   "source": [
    "for word in tqdm(word_tokens):\n",
    "    if word.isalpha() and word not in my_stop_words:\n",
    "        tokens.append(word)\n",
    "        token_dist = FreqDist(tokens)\n",
    "dist = pd.DataFrame(token_dist.most_common(20),columns=['Word', 'Frequency'])"
   ]
  },
  {
   "cell_type": "code",
   "execution_count": null,
   "id": "21671f58",
   "metadata": {},
   "outputs": [],
   "source": [
    "tokens"
   ]
  },
  {
   "cell_type": "code",
   "execution_count": null,
   "id": "e7a2bbd2",
   "metadata": {},
   "outputs": [],
   "source": [
    "dist"
   ]
  },
  {
   "cell_type": "markdown",
   "id": "603819be",
   "metadata": {},
   "source": [
    "#### Stemming"
   ]
  },
  {
   "cell_type": "code",
   "execution_count": null,
   "id": "bfafcd83",
   "metadata": {},
   "outputs": [],
   "source": [
    "from nltk.stem import PorterStemmer\n",
    "porter = PorterStemmer()\n",
    "stemmed_tokens =[porter.stem(word) for word in tokens]\n",
    "stemmed_token_dist = FreqDist(stemmed_tokens)\n",
    "stemmed_dist = pd.DataFrame(stemmed_token_dist.most_common(20),columns=['Word', 'Frequency'])"
   ]
  },
  {
   "cell_type": "code",
   "execution_count": null,
   "id": "ae8aaef0",
   "metadata": {},
   "outputs": [],
   "source": [
    "stemmed_token_dist"
   ]
  },
  {
   "cell_type": "markdown",
   "id": "2e8bba39",
   "metadata": {},
   "source": [
    "#### Creating bi-grams"
   ]
  },
  {
   "cell_type": "code",
   "execution_count": null,
   "id": "3121be06",
   "metadata": {},
   "outputs": [],
   "source": [
    "from sklearn.feature_extraction.text import CountVectorizer\n",
    "vect = CountVectorizer(stop_words=my_stop_words, ngram_range=(2,2))\n",
    "bigrams = vect.fit_transform(reviews_sample['text'])\n",
    "bigram_df = pd.DataFrame(bigrams.toarray(), columns=vect.get_feature_names())\n",
    "bigram_frequency = pd.DataFrame(bigram_df.sum(axis=0)).reset_index()\n",
    "bigram_frequency.columns = ['bigram', 'frequency']\n",
    "bigram_frequency = bigram_frequency.sort_values(by='frequency', ascending=False).head(20)"
   ]
  },
  {
   "cell_type": "code",
   "execution_count": null,
   "id": "fa5c15c5",
   "metadata": {},
   "outputs": [],
   "source": [
    "bigram_frequency"
   ]
  },
  {
   "cell_type": "code",
   "execution_count": null,
   "id": "2187f757",
   "metadata": {},
   "outputs": [],
   "source": [
    "from nltk.tokenize import sent_tokenize\n",
    "good_reviews = ' '.join(reviews_sample.text)# split the long string into sentences\n",
    "sentences_good = sent_tokenize(good_reviews)\n",
    "good_token_clean = list()# get tokens for each sentence\n",
    "for sentence in tqdm(sentences_good):\n",
    "    eng_word = re.findall(r'[A-Za-z\\-]+', sentence)\n",
    "    good_token_clean.append([i.lower() for i in eng_word if i.lower() not in my_stop_words])"
   ]
  },
  {
   "cell_type": "code",
   "execution_count": null,
   "id": "4a3baf89",
   "metadata": {},
   "outputs": [],
   "source": [
    "good_reviews"
   ]
  },
  {
   "cell_type": "code",
   "execution_count": null,
   "id": "6d2ba93e",
   "metadata": {},
   "outputs": [],
   "source": [
    "good_token_clean"
   ]
  },
  {
   "cell_type": "markdown",
   "id": "de55c8b0",
   "metadata": {},
   "source": [
    "#### Word2Vec method"
   ]
  },
  {
   "cell_type": "code",
   "execution_count": null,
   "id": "61c9027e",
   "metadata": {},
   "outputs": [],
   "source": [
    "from gensim.models import Word2Vec\n",
    "model_ted = Word2Vec(sentences=good_token_clean, window=10, min_count=1, workers=4, sg=0)\n",
    "model_ted.predict_output_word(['service'], topn=10)"
   ]
  },
  {
   "cell_type": "code",
   "execution_count": null,
   "id": "d24e0983",
   "metadata": {},
   "outputs": [],
   "source": [
    "# Load SentimentIntensityAnalyzer\n",
    "import nltk\n",
    "from nltk.sentiment.vader import SentimentIntensityAnalyzer# Instantiate new SentimentIntensityAnalyzer\n",
    "nltk.download('vader_lexicon')\n",
    "sid = SentimentIntensityAnalyzer()# Generate sentiment scores\n",
    "sentiment_scores = reviews_sample['text'].apply(sid.polarity_scores)\n",
    "sentiment = sentiment_scores.apply(lambda x: x['compound'])\n",
    "# monthly_sentiment = sentiment.resample('M').mean()"
   ]
  },
  {
   "cell_type": "code",
   "execution_count": null,
   "id": "325b6856",
   "metadata": {},
   "outputs": [],
   "source": [
    "sentiment_scores"
   ]
  },
  {
   "cell_type": "code",
   "execution_count": null,
   "id": "21fb2fc2",
   "metadata": {},
   "outputs": [],
   "source": [
    "sentiment"
   ]
  },
  {
   "cell_type": "code",
   "execution_count": null,
   "id": "c92357e2",
   "metadata": {},
   "outputs": [],
   "source": [
    "reviews_sample"
   ]
  },
  {
   "cell_type": "code",
   "execution_count": null,
   "id": "3ac3812d",
   "metadata": {},
   "outputs": [],
   "source": [
    "type(sentiment[0])"
   ]
  },
  {
   "cell_type": "code",
   "execution_count": null,
   "id": "996be2ac",
   "metadata": {},
   "outputs": [],
   "source": [
    "for i in tqdm(sentiment.index):\n",
    "    if sentiment[i] >= 0:\n",
    "        reviews_sample['label'][i] = 1\n",
    "    elif sentiment[i] < 0:\n",
    "        reviews_sample['label'][i] = -1\n",
    "#         print(sentiment[i])"
   ]
  },
  {
   "cell_type": "code",
   "execution_count": null,
   "id": "0a51fe8e",
   "metadata": {},
   "outputs": [],
   "source": [
    "reviews_sample"
   ]
  }
 ],
 "metadata": {
  "kernelspec": {
   "display_name": "Python 3",
   "language": "python",
   "name": "python3"
  },
  "language_info": {
   "codemirror_mode": {
    "name": "ipython",
    "version": 3
   },
   "file_extension": ".py",
   "mimetype": "text/x-python",
   "name": "python",
   "nbconvert_exporter": "python",
   "pygments_lexer": "ipython3",
   "version": "3.8.8"
  }
 },
 "nbformat": 4,
 "nbformat_minor": 5
}
